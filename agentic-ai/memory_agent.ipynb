{
 "cells": [
  {
   "cell_type": "code",
   "execution_count": 3,
   "id": "54c2df6e",
   "metadata": {},
   "outputs": [
    {
     "data": {
      "text/plain": [
       "True"
      ]
     },
     "execution_count": 3,
     "metadata": {},
     "output_type": "execute_result"
    }
   ],
   "source": [
    "import os\n",
    "from typing import TypedDict, List, Union\n",
    "from langchain_core.messages import HumanMessage, AIMessage\n",
    "from langchain_openai import ChatOpenAI\n",
    "from langgraph.graph import StateGraph, START, END\n",
    "from dotenv import load_dotenv\n",
    "\n",
    "load_dotenv()"
   ]
  },
  {
   "cell_type": "code",
   "execution_count": 4,
   "id": "78ea97d8",
   "metadata": {},
   "outputs": [],
   "source": [
    "class AgentState(TypedDict):\n",
    "    messages: List[Union[HumanMessage, AIMessage]]\n",
    "\n",
    "llm = ChatOpenAI(model=\"gpt-4o\")\n"
   ]
  },
  {
   "cell_type": "code",
   "execution_count": 5,
   "id": "80c82e6a",
   "metadata": {},
   "outputs": [],
   "source": [
    "def process(state: AgentState) -> AgentState:\n",
    "    \"\"\" This node will solve the request you input \"\"\"\n",
    "    response = llm.invoke(state[\"messages\"]) \n",
    "    state[\"messages\"].append(AIMessage(content=response.content))\n",
    "    print(f\"\\nAI: {response.content}\")\n",
    "    return state\n",
    "\n",
    "graph = StateGraph(AgentState)\n",
    "graph.add_node(\"process\", process)\n",
    "graph.add_edge(START, \"process\")\n",
    "graph.add_edge(\"process\", END)\n",
    "\n",
    "agent = graph.compile()\n",
    "\n"
   ]
  },
  {
   "cell_type": "code",
   "execution_count": 6,
   "id": "49fd8120",
   "metadata": {},
   "outputs": [
    {
     "name": "stdout",
     "output_type": "stream",
     "text": [
      "\n",
      "AI: Hello! How can I assist you today?\n",
      "[HumanMessage(content='Hi there', additional_kwargs={}, response_metadata={}), AIMessage(content='Hello! How can I assist you today?', additional_kwargs={}, response_metadata={})]\n",
      "\n",
      "AI: Nice to meet you, Ashwanth! How can I help you today?\n",
      "[HumanMessage(content='Hi there', additional_kwargs={}, response_metadata={}), AIMessage(content='Hello! How can I assist you today?', additional_kwargs={}, response_metadata={}), HumanMessage(content='My name is Ashwanth', additional_kwargs={}, response_metadata={}), AIMessage(content='Nice to meet you, Ashwanth! How can I help you today?', additional_kwargs={}, response_metadata={})]\n",
      "\n",
      "AI: Not much! I'm here to help you with any questions or information you might need. What's on your mind?\n",
      "[HumanMessage(content='Hi there', additional_kwargs={}, response_metadata={}), AIMessage(content='Hello! How can I assist you today?', additional_kwargs={}, response_metadata={}), HumanMessage(content='My name is Ashwanth', additional_kwargs={}, response_metadata={}), AIMessage(content='Nice to meet you, Ashwanth! How can I help you today?', additional_kwargs={}, response_metadata={}), HumanMessage(content=\"What's going on?\", additional_kwargs={}, response_metadata={}), AIMessage(content=\"Not much! I'm here to help you with any questions or information you might need. What's on your mind?\", additional_kwargs={}, response_metadata={})]\n",
      "\n",
      "AI: Your name is Ashwanth.\n",
      "[HumanMessage(content='Hi there', additional_kwargs={}, response_metadata={}), AIMessage(content='Hello! How can I assist you today?', additional_kwargs={}, response_metadata={}), HumanMessage(content='My name is Ashwanth', additional_kwargs={}, response_metadata={}), AIMessage(content='Nice to meet you, Ashwanth! How can I help you today?', additional_kwargs={}, response_metadata={}), HumanMessage(content=\"What's going on?\", additional_kwargs={}, response_metadata={}), AIMessage(content=\"Not much! I'm here to help you with any questions or information you might need. What's on your mind?\", additional_kwargs={}, response_metadata={}), HumanMessage(content=\"What's my name again?\", additional_kwargs={}, response_metadata={}), AIMessage(content='Your name is Ashwanth.', additional_kwargs={}, response_metadata={})]\n"
     ]
    }
   ],
   "source": [
    "conversation_history = []\n",
    "\n",
    "user_input = input(\"Enter: \")\n",
    "\n",
    "while user_input != \"exit\" and user_input != \"quit\":\n",
    "    conversation_history.append(HumanMessage(content=user_input))\n",
    "    result = agent.invoke({\"messages\": conversation_history})\n",
    "\n",
    "    print(result[\"messages\"])\n",
    "    conversation_history = result[\"messages\"]\n",
    "\n",
    "    user_input = input(\"Enter: \")"
   ]
  },
  {
   "cell_type": "code",
   "execution_count": null,
   "id": "43169840",
   "metadata": {},
   "outputs": [],
   "source": []
  }
 ],
 "metadata": {
  "kernelspec": {
   "display_name": "base",
   "language": "python",
   "name": "python3"
  },
  "language_info": {
   "codemirror_mode": {
    "name": "ipython",
    "version": 3
   },
   "file_extension": ".py",
   "mimetype": "text/x-python",
   "name": "python",
   "nbconvert_exporter": "python",
   "pygments_lexer": "ipython3",
   "version": "3.12.7"
  }
 },
 "nbformat": 4,
 "nbformat_minor": 5
}
