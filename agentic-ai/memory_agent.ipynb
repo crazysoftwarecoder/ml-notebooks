{
 "cells": [
  {
   "cell_type": "code",
   "execution_count": 2,
   "id": "54c2df6e",
   "metadata": {},
   "outputs": [
    {
     "data": {
      "text/plain": [
       "True"
      ]
     },
     "execution_count": 2,
     "metadata": {},
     "output_type": "execute_result"
    }
   ],
   "source": [
    "import os\n",
    "from typing import TypedDict, List, Union\n",
    "from langchain_core.messages import HumanMessage, AIMessage\n",
    "from langchain_openai import ChatOpenAI\n",
    "from langgraph.graph import StateGraph, START, END\n",
    "from dotenv import load_dotenv\n",
    "\n",
    "load_dotenv()"
   ]
  },
  {
   "cell_type": "code",
   "execution_count": 3,
   "id": "78ea97d8",
   "metadata": {},
   "outputs": [],
   "source": [
    "class AgentState(TypedDict):\n",
    "    messages: List[Union[HumanMessage, AIMessage]]\n",
    "\n",
    "llm = ChatOpenAI(model=\"gpt-4o\")\n"
   ]
  },
  {
   "cell_type": "code",
   "execution_count": 4,
   "id": "80c82e6a",
   "metadata": {},
   "outputs": [],
   "source": [
    "def process(state: AgentState) -> AgentState:\n",
    "    \"\"\" This node will solve the request you input \"\"\"\n",
    "    response = llm.invoke(state[\"messages\"]) \n",
    "    state[\"messages\"].append(AIMessage(content=response.content))\n",
    "    print(f\"\\nAI: {response.content}\")\n",
    "    print(f\"\\nState: \")\n",
    "    return state\n",
    "\n",
    "graph = StateGraph(AgentState)\n",
    "graph.add_node(\"process\", process)\n",
    "graph.add_edge(START, \"process\")\n",
    "graph.add_edge(\"process\", END)\n",
    "\n",
    "agent = graph.compile()\n",
    "\n"
   ]
  },
  {
   "cell_type": "code",
   "execution_count": 5,
   "id": "49fd8120",
   "metadata": {},
   "outputs": [
    {
     "name": "stdout",
     "output_type": "stream",
     "text": [
      "\n",
      "AI: Hello! How can I assist you today?\n",
      "\n",
      "State: \n",
      "[HumanMessage(content='Hi', additional_kwargs={}, response_metadata={}), AIMessage(content='Hello! How can I assist you today?', additional_kwargs={}, response_metadata={})]\n",
      "\n",
      "AI: I'm just a computer program, so I don't have feelings, but I'm here and ready to help you! How can I assist you today?\n",
      "\n",
      "State: \n",
      "[HumanMessage(content='Hi', additional_kwargs={}, response_metadata={}), AIMessage(content='Hello! How can I assist you today?', additional_kwargs={}, response_metadata={}), HumanMessage(content='How are you', additional_kwargs={}, response_metadata={}), AIMessage(content=\"I'm just a computer program, so I don't have feelings, but I'm here and ready to help you! How can I assist you today?\", additional_kwargs={}, response_metadata={})]\n",
      "\n",
      "AI: Thank you for asking! Everything is running smoothly on my end. How about you? How's your day going?\n",
      "\n",
      "State: \n",
      "[HumanMessage(content='Hi', additional_kwargs={}, response_metadata={}), AIMessage(content='Hello! How can I assist you today?', additional_kwargs={}, response_metadata={}), HumanMessage(content='How are you', additional_kwargs={}, response_metadata={}), AIMessage(content=\"I'm just a computer program, so I don't have feelings, but I'm here and ready to help you! How can I assist you today?\", additional_kwargs={}, response_metadata={}), HumanMessage(content='Is it going well?', additional_kwargs={}, response_metadata={}), AIMessage(content=\"Thank you for asking! Everything is running smoothly on my end. How about you? How's your day going?\", additional_kwargs={}, response_metadata={})]\n",
      "Conversation history saved to conversation_history.txt\n"
     ]
    }
   ],
   "source": [
    "conversation_history = []\n",
    "\n",
    "user_input = input(\"Enter: \")\n",
    "\n",
    "while user_input != \"exit\" and user_input != \"quit\":\n",
    "    conversation_history.append(HumanMessage(content=user_input))\n",
    "    result = agent.invoke({\"messages\": conversation_history})\n",
    "\n",
    "    print(result[\"messages\"])\n",
    "    conversation_history = result[\"messages\"]\n",
    "\n",
    "    user_input = input(\"Enter: \")\n",
    "\n",
    "with open(\"conversation_history.txt\", \"w\") as f:\n",
    "    f.write(\"Your conversation history: \\n\")\n",
    "    for message in conversation_history:\n",
    "        if isinstance(message, HumanMessage):\n",
    "            f.write(f\"You: {message.content}\\n\")\n",
    "        elif isinstance(message, AIMessage):\n",
    "            f.write(f\"AI: {message.content}\\n\")\n",
    "    f.write(\"End of conversation history \\n\")\n",
    "\n",
    "print(\"Conversation history saved to conversation_history.txt\")"
   ]
  },
  {
   "cell_type": "code",
   "execution_count": null,
   "id": "43169840",
   "metadata": {},
   "outputs": [],
   "source": []
  }
 ],
 "metadata": {
  "kernelspec": {
   "display_name": "base",
   "language": "python",
   "name": "python3"
  },
  "language_info": {
   "codemirror_mode": {
    "name": "ipython",
    "version": 3
   },
   "file_extension": ".py",
   "mimetype": "text/x-python",
   "name": "python",
   "nbconvert_exporter": "python",
   "pygments_lexer": "ipython3",
   "version": "3.12.7"
  }
 },
 "nbformat": 4,
 "nbformat_minor": 5
}
